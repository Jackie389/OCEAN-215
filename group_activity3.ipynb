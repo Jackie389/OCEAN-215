{
 "cells": [
  {
   "cell_type": "code",
   "execution_count": 1,
   "metadata": {
    "deletable": false,
    "editable": false
   },
   "outputs": [],
   "source": [
    "# Initialize Otter\n",
    "import otter\n",
    "grader = otter.Notebook(\"group_activity3.ipynb\")"
   ]
  },
  {
   "cell_type": "markdown",
   "metadata": {
    "id": "b4bLCSuSxzvL"
   },
   "source": [
    "# In-class coding exercise #3\n",
    "Objective: In this exercise you will practice numpy, datestrings, and control flow.\n",
    "\n",
    "## Introduction to group coding exercises\n",
    "Today you’ll work on this exercise in the same group of 3-4 as last week, submitting a single notebook file at the end of the class period. Decide amongst yourselves which member will upload the completed notebook to Gradescope this week. Make sure that everyone takes a turn being the “Uploader”. _You cannot upload the final code two weeks in a row._\n",
    "\n",
    "### Workflow\n",
    "Each question will be timed to ensure that everyone gets to work on at least a part of every question. Group activities are not graded by completeness or correctness, but by effort. We will be breaking down each question in the following order:  \n",
    "1. Independent work \n",
    "2. Group work and discussion on coding question\n",
    "3. Group work and discussion on reflection questions\n",
    "\n",
    "You are welcome and encouraged to communicate with other groups and the teaching team when you feel stuck on a problem. \n",
    "\n",
    "As a reminder, we will be grading based best practices in coding. These include: \n",
    "1) Variables are used to store objects\n",
    "\n",
    "2) Code is commented adequately\n",
    "\n",
    "3) Variables are names appropriately\n",
    "\n",
    "4) Code is efficient with minimal unnecessary lines \n",
    "\n",
    "5) Documenting help from outside sources, such as from other groups or online documentation. \n",
    "\n",
    "6) Final notebook fully runs from start to finish. A good way to check this is restarting the kernel and fully running through all the cells to check for any errors."
   ]
  },
  {
   "cell_type": "markdown",
   "metadata": {
    "id": "phOLyDmYBYSC"
   },
   "source": [
    "## Note here **and in the Gradescope submission** each of your group members:\n",
    "1. Liangtong(Sry) Wei\n",
    "2. Jiaqi Li\n",
    "3. Sofia Almeida"
   ]
  },
  {
   "cell_type": "markdown",
   "metadata": {
    "deletable": false,
    "editable": false,
    "id": "LoBF4pdezMxM"
   },
   "source": [
    "# Question 1\n",
    "\n",
    "![picture](https://www.awi.de/fileadmin/_processed_/9/9/csm_12072012_Polarstern_FMehrtens_001_5b8b956779.jpg)\n",
    "*Image: The research vessel R/V Polarstern.*\n",
    "\n",
    "### **Thermosalinograph time series**\n",
    "*Useful resources:* Prelectures on NumPy arrays and functions, multidimensional arrays, datetime objects, online documentation on `datetime` and `numpy`.\n",
    "\n",
    "During an oceanographic cruise, research vessels will often have an instrument called a thermosalinograph taking temperature measurements throughout the duration of the cruise. To get the most accurate picture of the surrounding conditions, there are usually 2 different temperature sensors in the water, situated at different depths. For this problem you are provided two NumPy arrays of sample data from a cruise in 2003 aboard the [R/V Polarstern](https://mosaic-expedition.org/expedition/polarstern/).\n",
    "\n",
    "<br>\n",
    "\n",
    "**Numpy ndarrays():**\n",
    "\n",
    "* `T_data` contains 4 columns (2-D) (longitude, latitude, temperature [˚C] at 5 meters, and temperature [˚C] at 11 meters)\n",
    "\n",
    "* `time_data` contains a single dimension (1-D) with strings containing the date/time information for the temperature measurements with the format %Y-%m-%d %H:%M:%S\n",
    "\n",
    "<br>\n",
    "\n",
    "### Instructions:\n",
    "1. Use the provided print statements to display your results. \n",
    "2. Store your answers in the provided answer variables."
   ]
  },
  {
   "cell_type": "code",
   "execution_count": 2,
   "metadata": {
    "colab": {
     "base_uri": "https://localhost:8080/",
     "height": 253
    },
    "deletable": false,
    "editable": false,
    "id": "tOq4lgctxcs5",
    "outputId": "b847057a-4b23-4d8b-f791-0338eb3184bf",
    "tags": []
   },
   "outputs": [],
   "source": [
    "# Do not alter the code in this cell\n",
    "# you only need to import these one time in a notebook!\n",
    "import numpy as np\n",
    "from datetime import datetime\n",
    "\n",
    "# Data in this array consists of 4 columns:\n",
    "# Latitude, longitude, T at 5 m (˚C), T at 11 m (˚C)\n",
    "\n",
    "T_data = np.array([[51.7439,2.4476,14.726,14.736],[51.7147,2.4071,14.746,14.756],[51.6851,2.3664,14.796,14.816],[51.6561,2.3254,14.856,14.866],\n",
    "  [51.627,2.2854,14.866,14.876],[51.5981,2.2454,14.896,14.916],[51.5689,2.2055,14.936,14.946],[51.5404,2.1661,14.946,14.956],\n",
    "  [51.5122,2.127,14.936,14.946],[51.4831,2.087,14.956,14.966],[51.4545,2.0478,15.016,15.026],[51.4271,2.01,15.106,15.116],\n",
    "  [51.3959,1.9686,15.136,15.146],[51.3635,1.9252,15.086,15.086],[51.3304,1.8848,14.826,14.826],[51.2986,1.8437,14.616,14.626],\n",
    "  [51.2679,1.8036,14.527,14.547],[51.2371,1.7642,14.636,14.646],[51.207,1.7255,14.666,14.686],[51.1782,1.6886,14.766,14.786],\n",
    "  [51.1497,1.6519,14.736,14.756],[51.1215,1.6156,14.716,14.726],[51.0984,1.581,14.656,14.666],[51.077,1.5485,14.567,14.577],\n",
    "  [51.0586,1.5198,14.467,14.477],[51.0354,1.4841,14.247,14.257],[51.0088,1.4431,14.117,14.147],[50.9829,1.4033,14.307,14.327],\n",
    "  [50.957,1.3635,14.337,14.347],[50.9314,1.324,14.307,14.327],[50.9077,1.2801,14.327,14.337],[50.8867,1.2301,14.207,14.217],\n",
    "  [50.8654,1.1789,14.157,14.177],[50.8436,1.1266,14.167,14.187],[50.8213,1.0736,14.137,14.157],[50.7988,1.0196,14.257,14.277],\n",
    "  [50.776,0.9649,14.437,14.447],[50.7527,0.9096,14.626,14.646],[50.7295,0.8538,14.796,14.806],[50.7059,0.7976,14.836,14.846],\n",
    "  [50.6826,0.7407,14.806,14.816],[50.6626,0.6806,14.806,14.816],[50.6388,0.6227,14.826,14.836],[50.615,0.5641,14.826,14.836],\n",
    "  [50.6005,0.4986,14.786,14.796],[50.5881,0.4317,14.786,14.786],[50.5756,0.3649,14.756,14.766],[50.5632,0.2975,14.826,14.836],\n",
    "  [50.5509,0.2306,14.886,14.896],[50.5386,0.1641,15.006,15.016],[50.5263,0.0974,15.176,15.186],[50.5138,0.0313,15.196,15.196],\n",
    "  [50.5018,-0.0345,15.186,15.196],[50.4897,-0.0997,15.286,15.296],[50.4778,-0.1644,15.346,15.356],[50.466,-0.2284,15.386,15.396],\n",
    "  [50.454,-0.2916,15.376,15.386],[50.4426,-0.3536,15.366,15.376],[50.4313,-0.4153,15.416,15.416],[50.4168,-0.4275,15.456,15.466],\n",
    "  [50.409,-0.4882,15.436,15.446],[50.4017,-0.5474,15.466,15.476],[50.3933,-0.6047,15.426,15.426],[50.3796,-0.6583,15.396,15.406],\n",
    "  [50.3668,-0.7114,15.396,15.406],[50.3524,-0.763,15.396,15.406],[50.3396,-0.8151,15.396,15.406],[50.3288,-0.8668,15.476,15.486],\n",
    "  [50.3223,-0.9188,15.556,15.566],[50.316,-0.97,15.616,15.636],[50.3092,-1.0191,15.696,15.706],[50.3024,-1.0675,15.746,15.756]])\n",
    "\n",
    "\n",
    "# Data in this array has only one dimension:\n",
    "# Date/Time (Y-m-d H:M:S) string\n",
    "\n",
    "time_data = np.array(['2003-10-23 06:25:00','2003-10-23 06:35:00',\n",
    "  '2003-10-23 06:45:00','2003-10-23 06:55:00','2003-10-23 07:05:00',\n",
    "  '2003-10-23 07:15:00','2003-10-23 07:25:00','2003-10-23 07:35:00',\n",
    "  '2003-10-23 07:45:00','2003-10-23 07:55:00','2003-10-23 08:05:00',\n",
    "  '2003-10-23 08:15:00','2003-10-23 08:25:00','2003-10-23 08:35:00',\n",
    "  '2003-10-23 08:45:00','2003-10-23 08:55:00','2003-10-23 09:05:00',\n",
    "  '2003-10-23 09:15:00','2003-10-23 09:25:00','2003-10-23 09:35:00',\n",
    "  '2003-10-23 09:45:00','2003-10-23 09:55:00','2003-10-23 10:05:00',\n",
    "  '2003-10-23 10:15:00','2003-10-23 10:25:00','2003-10-23 10:35:00',\n",
    "  '2003-10-23 10:45:00','2003-10-23 10:55:00','2003-10-23 11:05:00',\n",
    "  '2003-10-23 11:15:00','2003-10-23 11:25:00','2003-10-23 11:35:00',\n",
    "  '2003-10-23 11:45:00','2003-10-23 11:55:00','2003-10-23 12:05:00',\n",
    "  '2003-10-23 12:15:00','2003-10-23 12:25:00','2003-10-23 12:35:00',\n",
    "  '2003-10-23 12:45:00','2003-10-23 12:55:00','2003-10-23 13:05:00',\n",
    "  '2003-10-23 13:15:00','2003-10-23 13:25:00','2003-10-23 13:35:00',\n",
    "  '2003-10-23 13:45:00','2003-10-23 13:55:00','2003-10-23 14:05:00',\n",
    "  '2003-10-23 14:15:00','2003-10-23 14:25:00','2003-10-23 14:35:00',\n",
    "  '2003-10-23 14:45:00','2003-10-23 14:55:00','2003-10-23 15:05:00',\n",
    "  '2003-10-23 15:15:00','2003-10-23 15:25:00','2003-10-23 15:35:00',\n",
    "  '2003-10-23 15:45:00','2003-10-23 15:55:00','2003-10-23 16:05:00',\n",
    "  '2003-10-23 16:15:00','2003-10-23 16:25:00','2003-10-23 16:35:00',\n",
    "  '2003-10-23 16:45:00','2003-10-23 16:55:00','2003-10-23 17:05:00',\n",
    "  '2003-10-23 17:15:00','2003-10-23 17:25:00','2003-10-23 17:35:00',\n",
    "  '2003-10-23 17:45:00','2003-10-23 17:55:00','2003-10-23 18:05:00',\n",
    "  '2003-10-23 18:15:00','2003-10-23 18:25:00'])"
   ]
  },
  {
   "cell_type": "markdown",
   "metadata": {
    "deletable": false,
    "editable": false,
    "tags": []
   },
   "source": [
    "## Part 1 (20 minutes)\n",
    "Create a new 1-dimensional array of `datetime` objects by converting the date strings in the `time_data` array. Store your converted array in the `dstr_array` variable. Using your `dstr_array` variable, answer the following questions:\n",
    "> **a.** How much time passed between the first and last measurement? Report this in hours and store your answer in the `timediff` variable.\n",
    ">\n",
    "> **b.** What is the frequency of these measurements (e.g. how often did measurements occur)? You can assume that the measurements were all collected at the same frequency. Report this in minutes and store your answer in the `samprate` variable.\n",
    ">\n",
    "\n",
    "_HINT_: You can leave your answers as `timedelta` objects."
   ]
  },
  {
   "cell_type": "code",
   "execution_count": 15,
   "metadata": {
    "tags": []
   },
   "outputs": [
    {
     "name": "stdout",
     "output_type": "stream",
     "text": [
      "part 1a) The time difference is 12:00:00 hours\n",
      "part 1b) The sample rate is 0:10:00 minutes\n"
     ]
    }
   ],
   "source": [
    "# your code\n",
    "\n",
    "## answer variables\n",
    "dstr_array = [datetime.strptime(date, \"%Y-%m-%d %H:%M:%S\") \n",
    "              for date in time_data]\n",
    "# part 1a\n",
    "timediff = dstr_array[-1] - dstr_array[0]\n",
    "# part 1b\n",
    "samprate = dstr_array[1] - dstr_array[0]\n",
    "\n",
    "# print statements \n",
    "print(\"part 1a) The time difference is\", timediff, \"hours\")\n",
    "print(\"part 1b) The sample rate is\", samprate, \"minutes\")"
   ]
  },
  {
   "cell_type": "markdown",
   "metadata": {
    "deletable": false,
    "editable": false,
    "id": "PElYP-rw-5j3"
   },
   "source": [
    "# Part 2 (10 minutes)\n",
    "Find the maximum and minimum values of latitude and longitude in the`T_data` array.\n",
    "\n",
    "Store your answers for maximum/minimum latitude in the `max_lat` and `min_lat` variables, and maximum/minimum longitude in the `min_lat` and `min_lon` variables."
   ]
  },
  {
   "cell_type": "code",
   "execution_count": 16,
   "metadata": {
    "tags": []
   },
   "outputs": [
    {
     "name": "stdout",
     "output_type": "stream",
     "text": [
      "part 2) max lat = 51.7439 and min lat = 50.3024\n",
      "max lon = 2.4476 and min lon = -1.0675\n"
     ]
    }
   ],
   "source": [
    "# your code\n",
    "latitude = [data[0] \n",
    "            for data in T_data]\n",
    "longitude = [data[1] \n",
    "             for data in T_data]\n",
    "\n",
    "## answer variables\n",
    "min_lat = min(latitude)\n",
    "max_lat = max(latitude)\n",
    "min_lon = min(longitude)\n",
    "max_lon = max(longitude)\n",
    "print(\"part 2) max lat =\", max_lat, \"and min lat =\", min_lat)\n",
    "print(\"max lon =\", max_lon, \"and min lon =\", min_lon) "
   ]
  },
  {
   "cell_type": "markdown",
   "metadata": {
    "deletable": false,
    "editable": false,
    "id": "hqhssdm5ADYy"
   },
   "source": [
    "# Part 3 (25 minutes)\n",
    "Create and print a new 1-dimensional array containing the averaged temperatures between 5 meters and 11 meters for each measurement time. Store your new temperature array in the `t_mean` variable. \n",
    "\n",
    "If ocean temperatures change linearly between these two depths, what is the approximate _depth_ in the ocean that these average temperatures represent? Store your averaged depth in the `mean_depth` variable."
   ]
  },
  {
   "cell_type": "code",
   "execution_count": 17,
   "metadata": {
    "tags": []
   },
   "outputs": [
    {
     "name": "stdout",
     "output_type": "stream",
     "text": [
      "Part 3) [14.731000000000002, 14.751000000000001, 14.806000000000001, 14.861, 14.870999999999999, 14.906, 14.940999999999999, 14.951, 14.940999999999999, 14.960999999999999, 15.021, 15.111, 15.141, 15.086, 14.826, 14.620999999999999, 14.536999999999999, 14.641, 14.676, 14.776, 14.746, 14.721, 14.661000000000001, 14.572, 14.472000000000001, 14.251999999999999, 14.132000000000001, 14.317, 14.341999999999999, 14.317, 14.332, 14.212, 14.167, 14.177, 14.147, 14.267, 14.442, 14.636, 14.800999999999998, 14.841000000000001, 14.811, 14.811, 14.831, 14.831, 14.791, 14.786, 14.761, 14.831, 14.891, 15.011, 15.181000000000001, 15.196, 15.190999999999999, 15.291, 15.350999999999999, 15.391, 15.381, 15.370999999999999, 15.416, 15.460999999999999, 15.440999999999999, 15.471, 15.426, 15.401, 15.401, 15.401, 15.401, 15.481000000000002, 15.561, 15.626, 15.701, 15.751000000000001]\n",
      "The mean depth is 8.0 meters\n"
     ]
    }
   ],
   "source": [
    "# your code\n",
    "# example use of numpy.mean()\n",
    "# np.mean([1, 2, 3, 4])\n",
    "\n",
    "# answer variables\n",
    "t_mean = [np.mean([data[2],data[3]]) \n",
    "          for data in T_data\n",
    "         ]\n",
    "mean_depth = (5 + 11) / 2\n",
    "\n",
    "print(\"Part 3)\", t_mean)\n",
    "print(\"The mean depth is\", mean_depth, \"meters\") #print mean depth"
   ]
  },
  {
   "cell_type": "markdown",
   "metadata": {
    "deletable": false,
    "editable": false,
    "tags": []
   },
   "source": [
    "4. Make a new array with the following data as **rows** and print your new array*: (25 minutes)\n",
    "\n",
    "      Latitude\n",
    "\n",
    "      Longitude\n",
    "      \n",
    "      Averaged Temperature from part 3\n",
    "    \n",
    "    *Your final array should be a 3-dimensional array with a final shape of (3,72). HINT: what numpy array manipulation routine returns the dimensions (shape) of an array?\n",
    "    \n",
    "\n",
    "_**Store all your answers in the specified variables in the code below.**_"
   ]
  },
  {
   "cell_type": "markdown",
   "metadata": {
    "deletable": false,
    "editable": false
   },
   "source": [
    "## Part 4 (30 minutes)\n",
    "\n",
    "Make a new array with the following data as **rows***: (2 points)\n",
    "\n",
    "      Latitude\n",
    "\n",
    "      Longitude\n",
    "      \n",
    "      Averaged Temperature from part 3\n",
    "    \n",
    "    \n",
    "    \n",
    "Your final array should be a 3-dimensional array with a final shape of (3,72). Store your final array in the `new_array` variable.\n",
    "\n",
    "_HINT_: Use the [Numpy documentation](https://numpy.org/doc/1.26/reference/routines.array-manipulation.html) to help you reshape your array."
   ]
  },
  {
   "cell_type": "code",
   "execution_count": 20,
   "metadata": {
    "tags": []
   },
   "outputs": [
    {
     "name": "stdout",
     "output_type": "stream",
     "text": [
      "[[ 5.17439e+01  5.17147e+01  5.16851e+01  5.16561e+01  5.16270e+01\n",
      "   5.15981e+01  5.15689e+01  5.15404e+01  5.15122e+01  5.14831e+01\n",
      "   5.14545e+01  5.14271e+01  5.13959e+01  5.13635e+01  5.13304e+01\n",
      "   5.12986e+01  5.12679e+01  5.12371e+01  5.12070e+01  5.11782e+01\n",
      "   5.11497e+01  5.11215e+01  5.10984e+01  5.10770e+01  5.10586e+01\n",
      "   5.10354e+01  5.10088e+01  5.09829e+01  5.09570e+01  5.09314e+01\n",
      "   5.09077e+01  5.08867e+01  5.08654e+01  5.08436e+01  5.08213e+01\n",
      "   5.07988e+01  5.07760e+01  5.07527e+01  5.07295e+01  5.07059e+01\n",
      "   5.06826e+01  5.06626e+01  5.06388e+01  5.06150e+01  5.06005e+01\n",
      "   5.05881e+01  5.05756e+01  5.05632e+01  5.05509e+01  5.05386e+01\n",
      "   5.05263e+01  5.05138e+01  5.05018e+01  5.04897e+01  5.04778e+01\n",
      "   5.04660e+01  5.04540e+01  5.04426e+01  5.04313e+01  5.04168e+01\n",
      "   5.04090e+01  5.04017e+01  5.03933e+01  5.03796e+01  5.03668e+01\n",
      "   5.03524e+01  5.03396e+01  5.03288e+01  5.03223e+01  5.03160e+01\n",
      "   5.03092e+01  5.03024e+01]\n",
      " [ 2.44760e+00  2.40710e+00  2.36640e+00  2.32540e+00  2.28540e+00\n",
      "   2.24540e+00  2.20550e+00  2.16610e+00  2.12700e+00  2.08700e+00\n",
      "   2.04780e+00  2.01000e+00  1.96860e+00  1.92520e+00  1.88480e+00\n",
      "   1.84370e+00  1.80360e+00  1.76420e+00  1.72550e+00  1.68860e+00\n",
      "   1.65190e+00  1.61560e+00  1.58100e+00  1.54850e+00  1.51980e+00\n",
      "   1.48410e+00  1.44310e+00  1.40330e+00  1.36350e+00  1.32400e+00\n",
      "   1.28010e+00  1.23010e+00  1.17890e+00  1.12660e+00  1.07360e+00\n",
      "   1.01960e+00  9.64900e-01  9.09600e-01  8.53800e-01  7.97600e-01\n",
      "   7.40700e-01  6.80600e-01  6.22700e-01  5.64100e-01  4.98600e-01\n",
      "   4.31700e-01  3.64900e-01  2.97500e-01  2.30600e-01  1.64100e-01\n",
      "   9.74000e-02  3.13000e-02 -3.45000e-02 -9.97000e-02 -1.64400e-01\n",
      "  -2.28400e-01 -2.91600e-01 -3.53600e-01 -4.15300e-01 -4.27500e-01\n",
      "  -4.88200e-01 -5.47400e-01 -6.04700e-01 -6.58300e-01 -7.11400e-01\n",
      "  -7.63000e-01 -8.15100e-01 -8.66800e-01 -9.18800e-01 -9.70000e-01\n",
      "  -1.01910e+00 -1.06750e+00]\n",
      " [ 1.47310e+01  1.47510e+01  1.48060e+01  1.48610e+01  1.48710e+01\n",
      "   1.49060e+01  1.49410e+01  1.49510e+01  1.49410e+01  1.49610e+01\n",
      "   1.50210e+01  1.51110e+01  1.51410e+01  1.50860e+01  1.48260e+01\n",
      "   1.46210e+01  1.45370e+01  1.46410e+01  1.46760e+01  1.47760e+01\n",
      "   1.47460e+01  1.47210e+01  1.46610e+01  1.45720e+01  1.44720e+01\n",
      "   1.42520e+01  1.41320e+01  1.43170e+01  1.43420e+01  1.43170e+01\n",
      "   1.43320e+01  1.42120e+01  1.41670e+01  1.41770e+01  1.41470e+01\n",
      "   1.42670e+01  1.44420e+01  1.46360e+01  1.48010e+01  1.48410e+01\n",
      "   1.48110e+01  1.48110e+01  1.48310e+01  1.48310e+01  1.47910e+01\n",
      "   1.47860e+01  1.47610e+01  1.48310e+01  1.48910e+01  1.50110e+01\n",
      "   1.51810e+01  1.51960e+01  1.51910e+01  1.52910e+01  1.53510e+01\n",
      "   1.53910e+01  1.53810e+01  1.53710e+01  1.54160e+01  1.54610e+01\n",
      "   1.54410e+01  1.54710e+01  1.54260e+01  1.54010e+01  1.54010e+01\n",
      "   1.54010e+01  1.54010e+01  1.54810e+01  1.55610e+01  1.56260e+01\n",
      "   1.57010e+01  1.57510e+01]]\n",
      "(3, 72)\n"
     ]
    }
   ],
   "source": [
    "# your code\n",
    "\n",
    "# answer variable\n",
    "new_array = np.array([latitude, longitude, t_mean])\n",
    "print(new_array)\n",
    "print(np.shape(new_array))"
   ]
  },
  {
   "cell_type": "markdown",
   "metadata": {
    "deletable": false,
    "editable": false,
    "id": "BbB4gLiGAyOd"
   },
   "source": [
    "<!-- BEGIN QUESTION -->\n",
    "\n",
    "# Reflection questions (5 minutes)\n",
    "The purpose of the reflection is to inform us as instructors about students comfort level with course content. We use these answers to inform how we spend class time and design coursework in subsequent weeks. This question is graded for completeness, so please answer each question in the text box below. Be concise in your answers (max. 2 sentences). \n",
    "\n",
    "1) What do you feel you excelled at in this exercise? Why?\n",
    "\n",
    "2) What did you struggle with most in the exercise? Why?\n",
    "\n",
    "3) Is there any section of the question that you did not complete? If so, briefly describe why and the section you spent the most time on. \n",
    "\n",
    "4) Is there any topic you feel we need to revisit or review in class? Why?"
   ]
  },
  {
   "cell_type": "markdown",
   "metadata": {},
   "source": [
    "1) Really good reviewing of numpy syntax and got a lot of practice on the datatime module which I did not practice much before\n",
    "2) How to get the mean value in part 3. Struggled with the function and how it works. \n",
    "3) N/A\n",
    "4) N/A"
   ]
  },
  {
   "cell_type": "markdown",
   "metadata": {
    "deletable": false,
    "editable": false
   },
   "source": [
    "<!-- END QUESTION -->\n",
    "\n"
   ]
  }
 ],
 "metadata": {
  "colab": {
   "provenance": []
  },
  "kernelspec": {
   "display_name": "Python 3 (ipykernel)",
   "language": "python",
   "name": "python3"
  },
  "language_info": {
   "codemirror_mode": {
    "name": "ipython",
    "version": 3
   },
   "file_extension": ".py",
   "mimetype": "text/x-python",
   "name": "python",
   "nbconvert_exporter": "python",
   "pygments_lexer": "ipython3",
   "version": "3.10.10"
  },
  "otter": {
   "OK_FORMAT": true,
   "tests": {
    "Part 1": {
     "name": "Part 1",
     "points": 0,
     "suites": [
      {
       "cases": [],
       "scored": true,
       "setup": "",
       "teardown": "",
       "type": "doctest"
      }
     ]
    },
    "Part 2": {
     "name": "Part 2",
     "points": 0,
     "suites": [
      {
       "cases": [],
       "scored": true,
       "setup": "",
       "teardown": "",
       "type": "doctest"
      }
     ]
    },
    "Part 3": {
     "name": "Part 3",
     "points": 0,
     "suites": [
      {
       "cases": [],
       "scored": true,
       "setup": "",
       "teardown": "",
       "type": "doctest"
      }
     ]
    },
    "Part 4": {
     "name": "Part 4",
     "points": 0,
     "suites": [
      {
       "cases": [],
       "scored": true,
       "setup": "",
       "teardown": "",
       "type": "doctest"
      }
     ]
    }
   }
  }
 },
 "nbformat": 4,
 "nbformat_minor": 4
}
